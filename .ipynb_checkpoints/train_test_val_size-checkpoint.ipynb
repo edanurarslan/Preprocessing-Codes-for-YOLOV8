{
 "cells": [
  {
   "cell_type": "code",
   "execution_count": 5,
   "id": "86154ee7-290b-4f86-abf3-cf591932e51f",
   "metadata": {},
   "outputs": [
    {
     "name": "stdout",
     "output_type": "stream",
     "text": [
      "3310 dosya ve ilgili txt dosyaları train klasörüne taşındı.\n",
      "945 dosya ve ilgili txt dosyaları val klasörüne taşındı.\n",
      "474 dosya ve ilgili txt dosyaları test klasörüne taşındı.\n"
     ]
    }
   ],
   "source": [
    "import os\n",
    "import shutil\n",
    "import random\n",
    "\n",
    "# Kaynak klasör (dosyaların şu anda bulunduğu klasör)\n",
    "source_dir = \"C:/Users/edana/Desktop/dataset/dataset/dataset\"  # Değiştirin: Kaynak klasörünüzün yolunu buraya yazın\n",
    "\n",
    "# Hedef klasörler (train, val, test)\n",
    "train_dir = \"C:/Users/edana/Desktop/dataset/dataset/train\"    # Değiştirin: Eğitim seti klasörü\n",
    "val_dir = \"C:/Users/edana/Desktop/dataset/dataset/val\"         # Değiştirin: Doğrulama seti klasörü\n",
    "test_dir = \"C:/Users/edana/Desktop/dataset/dataset/test\"       # Değiştirin: Test seti klasörü\n",
    "\n",
    "# Hedef klasörleri oluştur\n",
    "os.makedirs(train_dir, exist_ok=True)\n",
    "os.makedirs(val_dir, exist_ok=True)\n",
    "os.makedirs(test_dir, exist_ok=True)\n",
    "\n",
    "# Dosyaların bulunduğu klasördeki tüm dosyaları listele\n",
    "all_files = os.listdir(source_dir)\n",
    "random.shuffle(all_files)  # Dosyaları rastgele karıştır\n",
    "\n",
    "# Sadece görsel dosyalarını al (örneğin .jpg, .png gibi uzantılar)\n",
    "image_extensions = ['.jpg', '.jpeg', '.png', '.bmp', '.gif']  # Görsel uzantıları\n",
    "image_files = [f for f in all_files if os.path.splitext(f)[1].lower() in image_extensions]\n",
    "\n",
    "# Dosya sayısı\n",
    "total_files = len(image_files)\n",
    "\n",
    "# Yüzdelere göre dosya sayısını hesapla\n",
    "train_count = int(0.7 * total_files)\n",
    "val_count = int(0.2 * total_files)\n",
    "test_count = total_files - train_count - val_count  # Kalan dosyalar test için\n",
    "\n",
    "# Dosyaları klasörlere taşı\n",
    "for i, file_name in enumerate(image_files):\n",
    "    file_path = os.path.join(source_dir, file_name)\n",
    "    \n",
    "    # Aynı isimdeki .txt dosyasını bul\n",
    "    txt_file = os.path.splitext(file_name)[0] + \".txt\"\n",
    "    txt_file_path = os.path.join(source_dir, txt_file)\n",
    "    \n",
    "    # Hedef klasöre göre dosyayı taşı\n",
    "    if i < train_count:\n",
    "        target_dir = train_dir\n",
    "    elif i < train_count + val_count:\n",
    "        target_dir = val_dir\n",
    "    else:\n",
    "        target_dir = test_dir\n",
    "    \n",
    "    # Görsel dosyasını taşı\n",
    "    shutil.move(file_path, os.path.join(target_dir, file_name))\n",
    "    \n",
    "    # Eğer aynı isimde bir .txt dosyası varsa, onu da taşı\n",
    "    if os.path.exists(txt_file_path):\n",
    "        shutil.move(txt_file_path, os.path.join(target_dir, txt_file))\n",
    "\n",
    "print(f\"{train_count} dosya ve ilgili txt dosyaları train klasörüne taşındı.\")\n",
    "print(f\"{val_count} dosya ve ilgili txt dosyaları val klasörüne taşındı.\")\n",
    "print(f\"{test_count} dosya ve ilgili txt dosyaları test klasörüne taşındı.\")"
   ]
  },
  {
   "cell_type": "code",
   "execution_count": null,
   "id": "e8ec90fb-3fab-4f11-9fce-6779c5657fc8",
   "metadata": {},
   "outputs": [],
   "source": []
  }
 ],
 "metadata": {
  "kernelspec": {
   "display_name": "Python 3 (ipykernel)",
   "language": "python",
   "name": "python3"
  },
  "language_info": {
   "codemirror_mode": {
    "name": "ipython",
    "version": 3
   },
   "file_extension": ".py",
   "mimetype": "text/x-python",
   "name": "python",
   "nbconvert_exporter": "python",
   "pygments_lexer": "ipython3",
   "version": "3.12.4"
  }
 },
 "nbformat": 4,
 "nbformat_minor": 5
}
