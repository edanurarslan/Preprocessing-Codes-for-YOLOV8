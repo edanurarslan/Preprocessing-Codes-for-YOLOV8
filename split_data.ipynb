{
 "cells": [
  {
   "cell_type": "code",
   "execution_count": 1,
   "id": "86154ee7-290b-4f86-abf3-cf591932e51f",
   "metadata": {},
   "outputs": [
    {
     "name": "stdout",
     "output_type": "stream",
     "text": [
      "0 files and their corresponding txt files have been moved to the train folder.\n",
      "0 files and their corresponding txt files have been moved to the val folder.\n",
      "0 files and their corresponding txt files have been moved to the test folder.\n"
     ]
    }
   ],
   "source": [
    "import os\n",
    "import shutil\n",
    "import random\n",
    "\n",
    "# Source directory (the folder where the files are currently located)\n",
    "source_dir = \"C:/Users/edana/Desktop/dataset/dataset/dataset\"  # Change: Enter the path to your source folder here\n",
    "\n",
    "# Target directories (train, val, test)\n",
    "train_dir = \"C:/Users/edana/Desktop/dataset/dataset/train\"    # Change: Training set folder\n",
    "val_dir = \"C:/Users/edana/Desktop/dataset/dataset/val\"         # Change: Validation set folder\n",
    "test_dir = \"C:/Users/edana/Desktop/dataset/dataset/test\"       # Change: Test set folder\n",
    "\n",
    "# Create target directories\n",
    "os.makedirs(train_dir, exist_ok=True)\n",
    "os.makedirs(val_dir, exist_ok=True)\n",
    "os.makedirs(test_dir, exist_ok=True)\n",
    "\n",
    "# List all files in the source directory\n",
    "all_files = os.listdir(source_dir)\n",
    "random.shuffle(all_files)  # Shuffle the files randomly\n",
    "\n",
    "# Get only image files (e.g., extensions like .jpg, .png)\n",
    "image_extensions = ['.jpg', '.jpeg', '.png', '.bmp', '.gif']  # Image extensions\n",
    "image_files = [f for f in all_files if os.path.splitext(f)[1].lower() in image_extensions]\n",
    "\n",
    "# File count\n",
    "total_files = len(image_files)\n",
    "\n",
    "# Calculate the number of files based on percentages\n",
    "train_count = int(0.7 * total_files)\n",
    "val_count = int(0.2 * total_files)\n",
    "test_count = total_files - train_count - val_count  # Remaining files for testing\n",
    "\n",
    "# Move the files to the respective folders\n",
    "for i, file_name in enumerate(image_files):\n",
    "    file_path = os.path.join(source_dir, file_name)\n",
    "    \n",
    "    # Find the corresponding .txt file with the same name\n",
    "    txt_file = os.path.splitext(file_name)[0] + \".txt\"\n",
    "    txt_file_path = os.path.join(source_dir, txt_file)\n",
    "    \n",
    "    # Move the file to the target folder based on the index\n",
    "    if i < train_count:\n",
    "        target_dir = train_dir\n",
    "    elif i < train_count + val_count:\n",
    "        target_dir = val_dir\n",
    "    else:\n",
    "        target_dir = test_dir\n",
    "    \n",
    "    # Move the image file\n",
    "    shutil.move(file_path, os.path.join(target_dir, file_name))\n",
    "    \n",
    "    # If a .txt file with the same name exists, move it as well\n",
    "    if os.path.exists(txt_file_path):\n",
    "        shutil.move(txt_file_path, os.path.join(target_dir, txt_file))\n",
    "\n",
    "print(f\"{train_count} files and their corresponding txt files have been moved to the train folder.\")\n",
    "print(f\"{val_count} files and their corresponding txt files have been moved to the val folder.\")\n",
    "print(f\"{test_count} files and their corresponding txt files have been moved to the test folder.\")"
   ]
  }
 ],
 "metadata": {
  "kernelspec": {
   "display_name": "Python 3 (ipykernel)",
   "language": "python",
   "name": "python3"
  },
  "language_info": {
   "codemirror_mode": {
    "name": "ipython",
    "version": 3
   },
   "file_extension": ".py",
   "mimetype": "text/x-python",
   "name": "python",
   "nbconvert_exporter": "python",
   "pygments_lexer": "ipython3",
   "version": "3.12.4"
  }
 },
 "nbformat": 4,
 "nbformat_minor": 5
}
