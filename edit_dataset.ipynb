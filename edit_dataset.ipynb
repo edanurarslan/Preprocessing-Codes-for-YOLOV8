{
 "cells": [
  {
   "cell_type": "code",
   "execution_count": 3,
   "id": "d76dad24-06a8-4a9b-8fa6-f700156d2e2b",
   "metadata": {},
   "outputs": [
    {
     "name": "stdout",
     "output_type": "stream",
     "text": [
      "04e13cc4-1704_jpg.rf.75c3676a3b249fe28258cf7edc78685e.txt kaldır_label klasörüne taşındı.\n",
      "0a95ec6e-1758_jpg.rf.edec6d2de3c4f28886ab7dfc9fa45d0b.txt kaldır_label klasörüne taşındı.\n",
      "0f22034a-1745_jpg.rf.bdbb6df36d8da1d8223cd40b0a6d8eb0.txt kaldır_label klasörüne taşındı.\n",
      "11daa65d-1763_jpg.rf.21566c2cc30e771fcccda139d075855b.txt kaldır_label klasörüne taşındı.\n",
      "121ae19f-1749_jpg.rf.ba8439d61d4699b0212205bf7c333822.txt kaldır_label klasörüne taşındı.\n",
      "136d9ef5-1625_PNG.rf.5a94fc4e6ff595ae9dcbc4c1d202631c.txt kaldır_label klasörüne taşındı.\n",
      "1502730c-1768_jpg.rf.a8ee9182c0748cd7fa90986567524b3a.txt kaldır_label klasörüne taşındı.\n",
      "1b6cf79d-1698_jpg.rf.8cfef565573232ca15d37050fb536ef6.txt kaldır_label klasörüne taşındı.\n",
      "21fb86ee-1783_jpg.rf.ba3ad9d74288768b73176400feeb42ba.txt kaldır_label klasörüne taşındı.\n",
      "2332444a-1747_jpg.rf.8a7f664bfbae7aa0f8b4a54eb3cdfac5.txt kaldır_label klasörüne taşındı.\n",
      "2b85dc59-1734_jpg.rf.14f01407f6485735401f88c2903906f9.txt kaldır_label klasörüne taşındı.\n",
      "2bcc1992-1760_jpg.rf.f01a0e02fe82f774d799b6c0cdf93751.txt kaldır_label klasörüne taşındı.\n",
      "2f498b32-1800_jpg.rf.4e8ff95ae1039719d9708a2b09fea3d3.txt kaldır_label klasörüne taşındı.\n",
      "43f7d0d0-1748_jpg.rf.848c4824398270597a1996ea57155e8d.txt kaldır_label klasörüne taşındı.\n",
      "4b698730-1766_jpg.rf.213a245a2d9d0a4dcc100571ef1528a7.txt kaldır_label klasörüne taşındı.\n",
      "4bf61371-1684_jpg.rf.5ff2f366337e04e8be46a047332a5307.txt kaldır_label klasörüne taşındı.\n",
      "4c1e9eb6-1650_jpg.rf.6e138f8c66d2d62d2f84f50e8e0958a9.txt kaldır_label klasörüne taşındı.\n",
      "55c2f987-1750_jpg.rf.10aa88c6b5fb8e3c4c05be923da87537.txt kaldır_label klasörüne taşındı.\n",
      "57c9d404-1795_jpg.rf.e149398595abe4ab13782c4caa4e9102.txt kaldır_label klasörüne taşındı.\n",
      "59603489-1632_PNG.rf.d73ba021479cfecd5560ee3d259f4fb4.txt kaldır_label klasörüne taşındı.\n",
      "78f02b89-1677_jpg.rf.9e4eb3a6fe967ede7e97f250ba3f5bbc.txt kaldır_label klasörüne taşındı.\n",
      "7ca80f8f-0008.txt kaldır_label klasörüne taşındı.\n",
      "84e4e25b-1764_jpg.rf.114f23651be64b7022449a110efad6e3.txt kaldır_label klasörüne taşındı.\n",
      "8ef74800-1669_PNG.rf.7e91984f73a9611d0d448e594d8d1d6b.txt kaldır_label klasörüne taşındı.\n",
      "9c13e582-1743_PNG.rf.824d8986d5a288b871ef2d9794fa243d.txt kaldır_label klasörüne taşındı.\n",
      "9db7f854-1737_jpg.rf.c97afea9839adf066d66879dba1ba4b5.txt kaldır_label klasörüne taşındı.\n",
      "a2ba7fbd-83.txt kaldır_label klasörüne taşındı.\n",
      "a9ac4738-1770_jpg.rf.74e197c75231d33c2eed4329f56aa591.txt kaldır_label klasörüne taşındı.\n",
      "ac10d7c3-1767_jpg.rf.2c7f2ac953882c3d16d2bafeae8a8717.txt kaldır_label klasörüne taşındı.\n",
      "c3c6def7-1718_jpg.rf.61431c72a4e9ad50e29a7239a20eb35d.txt kaldır_label klasörüne taşındı.\n",
      "c462f393-1762_jpg.rf.f27eaa7e6fceed5da298124913a70a7e.txt kaldır_label klasörüne taşındı.\n",
      "cd4a4aeb-1675_jpg.rf.e01028657d3096eec2b2de21149b3d66.txt kaldır_label klasörüne taşındı.\n",
      "d2ee9016-1772_jpg.rf.4bd8bed20b8bd1ad01c92fb1a4754188.txt kaldır_label klasörüne taşındı.\n",
      "e6982b76-1666_jpg.rf.e68005fe22293d8ed65be81b5b55284d.txt kaldır_label klasörüne taşındı.\n",
      "eec1b9d0-1752_jpg.rf.da77149bb6e9ba4f77b32966f7ebcad9.txt kaldır_label klasörüne taşındı.\n",
      "f4911c6a-1751_jpg.rf.d9e04a1de46a4a8b41783115c3cc9287.txt kaldır_label klasörüne taşındı.\n",
      "f5640b71-1609_jpg.rf.0948d1a01e1a2f3b2bee3b24df4eb1c4.txt kaldır_label klasörüne taşındı.\n",
      "f70d040e-1611_PNG.rf.60c1f6ab00a0c01c086bb26321984b09.txt kaldır_label klasörüne taşındı.\n",
      "f793f894-0005.txt kaldır_label klasörüne taşındı.\n",
      "İşlem tamamlandı.\n"
     ]
    }
   ],
   "source": [
    "import os\n",
    "import shutil\n",
    "\n",
    "# Görsellerin bulunduğu klasör yolu\n",
    "gorsel_klasor = 'C:/Users/edana/Desktop/newly_dataset/UAV/images/kaldırılacaklar'\n",
    "\n",
    "# Txt dosyalarının bulunduğu klasör yolu\n",
    "txt_klasor = 'C:/Users/edana/Desktop/newly_dataset/UAV/labels'\n",
    "\n",
    "# Txt dosyalarının taşınacağı hedef klasör\n",
    "hedef_klasor = 'C:/Users/edana/Desktop/newly_dataset/UAV/labels/kaldırılacaklar labels'\n",
    "\n",
    "# Eğer hedef klasör mevcut değilse oluştur\n",
    "if not os.path.exists(hedef_klasor):\n",
    "    os.makedirs(hedef_klasor)\n",
    "\n",
    "# Görsel dosyalarının isimlerini al (uzantı olmadan)\n",
    "gorsel_dosyalar = set(os.path.splitext(f)[0] for f in os.listdir(gorsel_klasor) if os.path.isfile(os.path.join(gorsel_klasor, f)))\n",
    "\n",
    "# Txt klasöründeki txt dosyalarını kontrol et\n",
    "for txt_dosya in os.listdir(txt_klasor):\n",
    "    dosya_adi, uzanti = os.path.splitext(txt_dosya)\n",
    "    \n",
    "    # Eğer txt dosyasının adı görsel dosyaları ile eşleşiyorsa taşı\n",
    "    if uzanti == '.txt' and dosya_adi in gorsel_dosyalar:\n",
    "        eski_yol = os.path.join(txt_klasor, txt_dosya)\n",
    "        yeni_yol = os.path.join(hedef_klasor, txt_dosya)\n",
    "        \n",
    "        # Txt dosyasını yeni klasöre taşı\n",
    "        shutil.move(eski_yol, yeni_yol)\n",
    "        print(f\"{txt_dosya} kaldır_label klasörüne taşındı.\")\n",
    "\n",
    "print(\"İşlem tamamlandı.\")"
   ]
  },
  {
   "cell_type": "code",
   "execution_count": null,
   "id": "e5414433-8816-47bb-8bc5-86cd12326854",
   "metadata": {},
   "outputs": [],
   "source": []
  },
  {
   "cell_type": "code",
   "execution_count": null,
   "id": "9cfa80b4-a00c-4bb9-8c04-2f7dfb5103b0",
   "metadata": {},
   "outputs": [],
   "source": []
  },
  {
   "cell_type": "code",
   "execution_count": 1,
   "id": "90e40237-93e1-4655-8ca9-b9deb93d570f",
   "metadata": {},
   "outputs": [
    {
     "name": "stdout",
     "output_type": "stream",
     "text": [
      "İşlem tamamlandı.\n"
     ]
    }
   ],
   "source": [
    "import os\n",
    "\n",
    "# Görsellerin bulunduğu klasörün yolu\n",
    "gorsel_klasor = 'C:/Users/edana/Desktop/newly_dataset/UAV/images'\n",
    "\n",
    "# TXT dosyalarının bulunduğu klasörün yolu\n",
    "txt_klasor = 'C:/Users/edana/Desktop/newly_dataset/UAV/labels'\n",
    "\n",
    "# JPEG ve JPG dışındaki uzantıları kontrol et ve sil\n",
    "for dosya in os.listdir(gorsel_klasor):\n",
    "    dosya_yolu = os.path.join(gorsel_klasor, dosya)\n",
    "    \n",
    "    # Eğer dosya bir görsel dosyası ise\n",
    "    if os.path.isfile(dosya_yolu):\n",
    "        dosya_adi, uzanti = os.path.splitext(dosya)\n",
    "        uzanti = uzanti.lower()  # Uzantıyı küçük harfe çeviriyoruz\n",
    "        \n",
    "        # Eğer uzantı JPEG veya JPG değilse dosyayı sil\n",
    "        if uzanti not in ['.jpeg', '.jpg']:\n",
    "            os.remove(dosya_yolu)\n",
    "            print(f\"{dosya} görsel klasöründen silindi.\")\n",
    "            \n",
    "            # Aynı isimdeki txt dosyasını txt klasöründe kontrol et ve sil\n",
    "            txt_dosya = f\"{dosya_adi}.txt\"\n",
    "            txt_dosya_yolu = os.path.join(txt_klasor, txt_dosya)\n",
    "            \n",
    "            if os.path.exists(txt_dosya_yolu):\n",
    "                os.remove(txt_dosya_yolu)\n",
    "                print(f\"{txt_dosya} txt klasöründen silindi.\")\n",
    "\n",
    "print(\"İşlem tamamlandı.\")"
   ]
  },
  {
   "cell_type": "code",
   "execution_count": 3,
   "id": "7347f711-0437-4bdb-b614-6491c2610946",
   "metadata": {},
   "outputs": [
    {
     "name": "stdout",
     "output_type": "stream",
     "text": [
      "118daf0d-singleBirdinsky18.webp görsel klasöründen silindi.\n",
      "118daf0d-singleBirdinsky18.txt txt klasöründen silindi.\n",
      "284b8596-singleBirdinsky19.webp görsel klasöründen silindi.\n",
      "284b8596-singleBirdinsky19.txt txt klasöründen silindi.\n",
      "İşlem tamamlandı.\n"
     ]
    }
   ],
   "source": [
    "import os\n",
    "\n",
    "# Görsellerin bulunduğu klasörün yolu\n",
    "gorsel_klasor = 'C:/Users/edana/Desktop/newly_dataset/Bird/images'\n",
    "\n",
    "# TXT dosyalarının bulunduğu klasörün yolu\n",
    "txt_klasor = 'C:/Users/edana/Desktop/newly_dataset/Bird/labels'\n",
    "\n",
    "# JPEG ve JPG dışındaki uzantıları kontrol et ve sil\n",
    "for dosya in os.listdir(gorsel_klasor):\n",
    "    dosya_yolu = os.path.join(gorsel_klasor, dosya)\n",
    "    \n",
    "    # Eğer dosya bir görsel dosyası ise\n",
    "    if os.path.isfile(dosya_yolu):\n",
    "        dosya_adi, uzanti = os.path.splitext(dosya)\n",
    "        uzanti = uzanti.lower()  # Uzantıyı küçük harfe çeviriyoruz\n",
    "        \n",
    "        # Eğer uzantı JPEG veya JPG değilse dosyayı sil\n",
    "        if uzanti not in ['.jpeg', '.jpg']:\n",
    "            os.remove(dosya_yolu)\n",
    "            print(f\"{dosya} görsel klasöründen silindi.\")\n",
    "            \n",
    "            # Aynı isimdeki txt dosyasını txt klasöründe kontrol et ve sil\n",
    "            txt_dosya = f\"{dosya_adi}.txt\"\n",
    "            txt_dosya_yolu = os.path.join(txt_klasor, txt_dosya)\n",
    "            \n",
    "            if os.path.exists(txt_dosya_yolu):\n",
    "                os.remove(txt_dosya_yolu)\n",
    "                print(f\"{txt_dosya} txt klasöründen silindi.\")\n",
    "\n",
    "print(\"İşlem tamamlandı.\")"
   ]
  },
  {
   "cell_type": "code",
   "execution_count": null,
   "id": "21f10bcb-8166-4710-99ba-09df39c88357",
   "metadata": {},
   "outputs": [],
   "source": []
  }
 ],
 "metadata": {
  "kernelspec": {
   "display_name": "Python 3 (ipykernel)",
   "language": "python",
   "name": "python3"
  },
  "language_info": {
   "codemirror_mode": {
    "name": "ipython",
    "version": 3
   },
   "file_extension": ".py",
   "mimetype": "text/x-python",
   "name": "python",
   "nbconvert_exporter": "python",
   "pygments_lexer": "ipython3",
   "version": "3.12.4"
  }
 },
 "nbformat": 4,
 "nbformat_minor": 5
}
